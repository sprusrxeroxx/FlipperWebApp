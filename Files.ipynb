{
 "cells": [
  {
   "cell_type": "code",
   "execution_count": 2,
   "metadata": {},
   "outputs": [
    {
     "name": "stdout",
     "output_type": "stream",
     "text": [
      "1 Processing : Abi-10-100m-Back.txt\n",
      "('Abi', '10', '100m', 'Back', ['1:31.59', '1:26.55', '1:28.75', '1:39.79', '1:32.37'], '1:31.81', [9159, 8655, 8875, 9979, 9237])\n",
      "2 Processing : Abi-10-100m-Breast.txt\n",
      "('Abi', '10', '100m', 'Breast', ['1:42.97', '1:43.31', '1:43.50', '1:40.34'], '1:42.53', [10297, 10331, 10350, 10034])\n",
      "3 Processing : Abi-10-50m-Back.txt\n",
      "('Abi', '10', '50m', 'Back', ['41.50', '43.58', '42.35', '43.35', '39.85', '40.53', '42.14', '39.18', '40.89', '40.89'], '0:41.43', [4150, 4358, 4235, 4335, 3985, 4053, 4214, 3918, 4089, 4089])\n",
      "4 Processing : Abi-10-50m-Breast.txt\n",
      "('Abi', '10', '50m', 'Breast', ['48.08', '53.17', '45.76', '49.28', '52.85', '46.19', '47.76', '48.83', '45.71', '47.76'], '0:48.54', [4808, 5317, 4576, 4928, 5285, 4619, 4776, 4883, 4571, 4776])\n",
      "5 Processing : Abi-10-50m-Free.txt\n",
      "('Abi', '10', '50m', 'Free', ['39.07', '37.66', '36.13', '39.42'], '0:38.07', [3907, 3766, 3613, 3942])\n",
      "6 Processing : Ali-12-100m-Back.txt\n",
      "('Ali', '12', '100m', 'Back', ['1:36.54', '1:39.10', '1:39.45', '1:42.87'], '1:39.49', [9654, 9910, 9945, 10287])\n",
      "7 Processing : Ali-12-100m-Free.txt\n",
      "('Ali', '12', '100m', 'Free', ['1:27.31', '1:27.00', '1:27.46', '1:22.50', '1:20.39', '1:26.04', '1:20.22'], '1:24.42', [8731, 8700, 8746, 8250, 8039, 8604, 8022])\n",
      "8 Processing : Alison-14-100m-Breast.txt\n",
      "('Alison', '14', '100m', 'Breast', ['1:34.71', '1:37.87', '1:35.15', '1:37.20', '1:36.29', '1:36.00', '1:35.63', '1:35.42', '1:42.01'], '1:36.70', [9471, 9787, 9515, 9720, 9629, 9600, 9563, 9542, 10201])\n",
      "9 Processing : Alison-14-100m-Free.txt\n",
      "('Alison', '14', '100m', 'Free', ['1:13.86', '1:12.00', '1:14.69', '1:10.01', '1:12.24', '1:11.00', '1:11.20', '1:12.28', '1:15.46', '1:16.03'], '1:12.88', [7386, 7200, 7469, 7001, 7224, 7100, 7120, 7228, 7546, 7603])\n",
      "10 Processing : Aurora-13-50m-Free.txt\n",
      "('Aurora', '13', '50m', 'Free', ['30.05', '30.21', '28.86', '30.65', '30.03', '29.64', '29.82'], '0:29.89', [3005, 3021, 2886, 3065, 3003, 2964, 2982])\n",
      "11 Processing : Bill-18-100m-Back.txt\n",
      "('Bill', '18', '100m', 'Back', ['1:11.34', '1:05.81', '1:05.75', '1:05.82'], '1:07.18', [7134, 6581, 6575, 6582])\n",
      "12 Processing : Bill-18-200m-Back.txt\n",
      "('Bill', '18', '200m', 'Back', ['2:29.06', '2:21.49', '2:24.13', '2:29.40'], '2:26.02', [14906, 14149, 14413, 14940])\n",
      "13 Processing : Blake-15-100m-Back.txt\n",
      "('Blake', '15', '100m', 'Back', ['1:12.71', '1:19.87', '1:14.94', '1:11.53', '1:14.94'], '1:14.80', [7271, 7987, 7494, 7153, 7494])\n",
      "14 Processing : Blake-15-100m-Fly.txt\n",
      "('Blake', '15', '100m', 'Fly', ['1:11.49', '1:10.16', '1:12.59', '1:11.63', '1:09.43'], '1:11.06', [7149, 7016, 7259, 7163, 6943])\n",
      "15 Processing : Blake-15-100m-Free.txt\n",
      "('Blake', '15', '100m', 'Free', ['1:02.13', '1:03.25', '1:04.16', '1:03.17', '1:04.84', '1:03.88', '1:04.87'], '1:03.76', [6213, 6325, 6416, 6317, 6484, 6388, 6487])\n",
      "16 Processing : Calvin-9-50m-Back.txt\n",
      "('Calvin', '9', '50m', 'Back', ['38.79', '39.03', '41.29', '39.66', '41.13', '38.57', '39.40', '41.06', '40.37', '43.05', '37.85'], '0:40.02', [3879, 3903, 4129, 3966, 4113, 3857, 3940, 4106, 4037, 4305, 3785])\n",
      "17 Processing : Calvin-9-50m-Fly.txt\n",
      "('Calvin', '9', '50m', 'Fly', ['39.47', '37.30', '41.90', '42.85', '39.90', '38.66', '38.84', '37.65', '39.68', '37.18', '43.61'], '0:39.73', [3947, 3730, 4190, 4285, 3990, 3866, 3884, 3765, 3968, 3718, 4361])\n",
      "18 Processing : Calvin-9-50m-Free.txt\n",
      "('Calvin', '9', '50m', 'Free', ['35.78', '36.19', '36.89', '34.29', '34.18', '35.94'], '0:35.55', [3578, 3619, 3689, 3429, 3418, 3594])\n",
      "19 Processing : Carl-15-100m-Back.txt\n",
      "('Carl', '15', '100m', 'Back', ['1:29.78', '1:28.38', '1:25.03', '1:25.66'], '1:27.21', [8978, 8838, 8503, 8566])\n",
      "20 Processing : Chris-17-100m-Back.txt\n",
      "('Chris', '17', '100m', 'Back', ['1:21.76', '1:23.32', '1:24.09', '1:21.51'], '1:22.67', [8176, 8332, 8409, 8151])\n",
      "21 Processing : Chris-17-100m-Breast.txt\n",
      "('Chris', '17', '100m', 'Breast', ['1:28.86', '1:29.90', '1:28.12', '1:28.67'], '1:28.89', [8886, 8990, 8812, 8867])\n",
      "22 Processing : Darius-13-100m-Back.txt\n",
      "('Darius', '13', '100m', 'Back', ['1:22.57', '1:29.64', '1:20.39', '1:23.83'], '1:24.11', [8257, 8964, 8039, 8383])\n",
      "23 Processing : Darius-13-100m-Breast.txt\n",
      "('Darius', '13', '100m', 'Breast', ['1:30.24', '1:33.18', '1:32.73', '1:33.05', '1:30.81', '1:31.74', '1:31.53', '1:33.05'], '1:32.04', [9024, 9318, 9273, 9305, 9081, 9174, 9153, 9305])\n",
      "24 Processing : Darius-13-100m-Fly.txt\n",
      "('Darius', '13', '100m', 'Fly', ['1:27.95', '1:21.07', '1:30.96', '1:23.22', '1:27.95', '1:28.30'], '1:26.58', [8795, 8107, 9096, 8322, 8795, 8830])\n",
      "25 Processing : Darius-13-200m-IM.txt\n",
      "('Darius', '13', '200m', 'IM', ['3:03.84', '3:04.27', '3:01.49', '3:04.27', '2:52.44'], '3:01.26', [18384, 18427, 18149, 18427, 17244])\n",
      "26 Processing : Dave-17-100m-Free.txt\n",
      "('Dave', '17', '100m', 'Free', ['59.21', '59.27', '58.67', '59.72', '59.17'], '0:59.21', [5921, 5927, 5867, 5972, 5917])\n",
      "27 Processing : Dave-17-200m-Back.txt\n",
      "('Dave', '17', '200m', 'Back', ['2:35.46', '2:28.30', '2:35.35', '2:28.84'], '2:31.99', [15546, 14830, 15535, 14884])\n",
      "28 Processing : Elba-14-100m-Free.txt\n",
      "('Elba', '14', '100m', 'Free', ['1:06.01', '1:06.93', '1:05.34', '1:06.10'], '1:06.09', [6601, 6693, 6534, 6610])\n",
      "29 Processing : Emma-13-100m-Breast.txt\n",
      "('Emma', '13', '100m', 'Breast', ['2:01.15', '1:57.86', '1:59.38', '1:57.94', '1:56.97'], '1:58.66', [12115, 11786, 11938, 11794, 11697])\n",
      "30 Processing : Emma-13-100m-Free.txt\n",
      "('Emma', '13', '100m', 'Free', ['1:32.21', '1:33.68', '1:34.10', '1:28.57'], '1:32.14', [9221, 9368, 9410, 8857])\n",
      "31 Processing : Erika-15-100m-Breast.txt\n",
      "('Erika', '15', '100m', 'Breast', ['1:36.72', '1:34.78', '1:34.05', '1:32.78', '1:33.51', '1:33.29', '1:36.47', '1:31.82'], '1:34.18', [9672, 9478, 9405, 9278, 9351, 9329, 9647, 9182])\n",
      "32 Processing : Erika-15-100m-Free.txt\n",
      "('Erika', '15', '100m', 'Free', ['1:19.04', '1:15.88', '1:18.62', '1:21.74'], '1:18.82', [7904, 7588, 7862, 8174])\n",
      "33 Processing : Erika-15-200m-Breast.txt\n",
      "('Erika', '15', '200m', 'Breast', ['3:27.51', '3:34.70', '3:27.15', '3:28.45', '3:34.79', '3:30.21', '3:33.74'], '3:30.94', [20751, 21470, 20715, 20845, 21479, 21021, 21374])\n",
      "34 Processing : Hannah-13-100m-Back.txt\n",
      "('Hannah', '13', '100m', 'Back', ['1:35.75', '1:32.78', '1:34.01', '1:32.57'], '1:33.78', [9575, 9278, 9401, 9257])\n",
      "35 Processing : Hannah-13-100m-Free.txt\n",
      "('Hannah', '13', '100m', 'Free', ['1:21.43', '1:21.40', '1:21.62', '1:25.38'], '1:22.46', [8143, 8140, 8162, 8538])\n",
      "36 Processing : Katie-9-100m-Back.txt\n",
      "('Katie', '9', '100m', 'Back', ['1:33.36', '1:31.52', '1:28.10', '1:33.37', '1:32.89', '1:33.38', '1:32.03', '1:32.71'], '1:32.17', [9336, 9152, 8810, 9337, 9289, 9338, 9203, 9271])\n",
      "37 Processing : Katie-9-100m-Breast.txt\n",
      "('Katie', '9', '100m', 'Breast', ['1:50.10', '1:47.12', '1:54.65', '1:51.03'], '1:50.72', [11010, 10712, 11465, 11103])\n",
      "38 Processing : Katie-9-100m-Free.txt\n",
      "('Katie', '9', '100m', 'Free', ['1:20.81', '1:23.61', '1:24.80', '1:22.05', '1:22.58', '1:23.94'], '1:22.97', [8081, 8361, 8480, 8205, 8258, 8394])\n",
      "39 Processing : Katie-9-50m-Back.txt\n",
      "('Katie', '9', '50m', 'Back', ['43.25', '47.35', '46.12', '45.69'], '0:45.60', [4325, 4735, 4612, 4569])\n",
      "40 Processing : Katie-9-50m-Breast.txt\n",
      "('Katie', '9', '50m', 'Breast', ['47.44', '52.32', '57.16', '56.77'], '0:53.42', [4744, 5232, 5716, 5677])\n",
      "41 Processing : Katie-9-50m-Fly.txt\n",
      "('Katie', '9', '50m', 'Fly', ['40.11', '45.43', '50.17', '43.58', '52.61'], '0:46.38', [4011, 4543, 5017, 4358, 5261])\n",
      "42 Processing : Katie-9-50m-Free.txt\n",
      "('Katie', '9', '50m', 'Free', ['38.94', '37.76', '41.83', '42.81'], '0:40.34', [3894, 3776, 4183, 4281])\n",
      "43 Processing : Lizzie-14-100m-Back.txt\n",
      "('Lizzie', '14', '100m', 'Back', ['1:27.10', '1:26.21', '1:26.42', '1:35.79', '1:30.47'], '1:29.20', [8710, 8621, 8642, 9579, 9047])\n",
      "44 Processing : Lizzie-14-100m-Free.txt\n",
      "('Lizzie', '14', '100m', 'Free', ['1:21.08', '1:11.23', '1:12.46', '1:16.73'], '1:15.38', [8108, 7123, 7246, 7673])\n",
      "45 Processing : Maria-9-50m-Free.txt\n",
      "('Maria', '9', '50m', 'Free', ['45.75', '41.62', '40.49', '41.00'], '0:42.22', [4575, 4162, 4049, 4100])\n",
      "46 Processing : Mike-15-100m-Back.txt\n",
      "('Mike', '15', '100m', 'Back', ['1:19.23', '1:13.70', '1:13.96', '1:15.94'], '1:15.71', [7923, 7370, 7396, 7594])\n",
      "47 Processing : Mike-15-100m-Fly.txt\n",
      "('Mike', '15', '100m', 'Fly', ['1:14.55', '1:14.15', '1:08.38', '1:08.74', '1:10.89', '1:09.47', '1:09.52', '1:09.86', '1:09.83'], '1:10.60', [7455, 7415, 6838, 6874, 7089, 6947, 6952, 6986, 6983])\n",
      "48 Processing : Mike-15-100m-Free.txt\n",
      "('Mike', '15', '100m', 'Free', ['1:02.52', '1:02.56', '1:06.41', '1:07.08', '1:02.56', '1:03.23', '1:04.54'], '1:04.13', [6252, 6256, 6641, 6708, 6256, 6323, 6454])\n",
      "49 Processing : Mike-15-200m-Free.txt\n",
      "('Mike', '15', '200m', 'Free', ['2:19.77', '2:41.57', '2:27.88', '2:37.28'], '2:31.62', [13977, 16157, 14788, 15728])\n",
      "50 Processing : Mike-15-200m-IM.txt\n",
      "('Mike', '15', '200m', 'IM', ['2:48.05', '2:44.03', '2:38.93', '2:54.86'], '2:46.47', [16805, 16403, 15893, 17486])\n",
      "51 Processing : Owen-15-100m-Free.txt\n",
      "('Owen', '15', '100m', 'Free', ['1:15.57', '1:14.40', '1:19.82', '1:12.90'], '1:15.67', [7557, 7440, 7982, 7290])\n",
      "52 Processing : Ruth-13-100m-Back.txt\n",
      "('Ruth', '13', '100m', 'Back', ['1:17.16', '1:16.65', '1:23.11', '1:14.37', '1:18.16', '1:18.28', '1:16.87', '1:17.37', '1:20.46'], '1:18.05', [7716, 7665, 8311, 7437, 7816, 7828, 7687, 7737, 8046])\n",
      "53 Processing : Ruth-13-100m-Free.txt\n",
      "('Ruth', '13', '100m', 'Free', ['1:07.99', '1:11.87', '1:11.08', '1:09.75'], '1:10.17', [6799, 7187, 7108, 6975])\n",
      "54 Processing : Ruth-13-200m-Back.txt\n",
      "('Ruth', '13', '200m', 'Back', ['2:56.68', '2:42.63', '2:40.90', '2:42.88', '2:46.09'], '2:45.84', [17668, 16263, 16090, 16288, 16609])\n",
      "55 Processing : Ruth-13-200m-Free.txt\n",
      "('Ruth', '13', '200m', 'Free', ['2:22.64', '2:28.16', '2:28.38', '2:25.08', '2:25.64', '2:33.58'], '2:27.25', [14264, 14816, 14838, 14508, 14564, 15358])\n",
      "56 Processing : Ruth-13-400m-Free.txt\n",
      "('Ruth', '13', '400m', 'Free', ['5:11.32', '5:04.12', '5:20.67', '5:08.31', '5:04.32', '5:06.77', '5:13.01'], '5:09.79', [31132, 30412, 32067, 30831, 30432, 30677, 31301])\n",
      "57 Processing : Tasmin-15-100m-Back.txt\n",
      "('Tasmin', '15', '100m', 'Back', ['1:19.63', '1:16.69', '1:19.68', '1:16.56'], '1:18.14', [7963, 7669, 7968, 7656])\n",
      "58 Processing : Tasmin-15-100m-Breast.txt\n",
      "('Tasmin', '15', '100m', 'Breast', ['1:20.59', '1:26.48', '1:24.15', '1:21.96'], '1:23.30', [8059, 8648, 8415, 8196])\n",
      "59 Processing : Tasmin-15-100m-Free.txt\n",
      "('Tasmin', '15', '100m', 'Free', ['1:08.87', '1:07.34', '1:11.00', '1:08.62', '1:10.94', '1:09.52', '1:12.04', '1:10.91'], '1:09.91', [6887, 6734, 7100, 6862, 7094, 6952, 7204, 7091])\n",
      "60 Processing : Tasmin-15-200m-Breast.txt\n",
      "('Tasmin', '15', '200m', 'Breast', ['2:54.14', '3:03.58', '3:02.43', '2:57.99'], '2:59.53', [17414, 18358, 18243, 17799])\n"
     ]
    }
   ],
   "source": [
    "import os\n",
    "import swimclub\n",
    "import hfpy_utils\n",
    "\n",
    "swim_files = os.listdir(swimclub.FOLDER)\n",
    "swim_files.remove('.DS_Store')\n",
    "\n",
    "for n, s in enumerate(swim_files, 1):\n",
    "    print(n, \"Processing :\", s)\n",
    "    print(swimclub.read_swim_data(s))"
   ]
  },
  {
   "cell_type": "code",
   "execution_count": 1,
   "metadata": {},
   "outputs": [
    {
     "name": "stdout",
     "output_type": "stream",
     "text": [
      "Darius-13-100m-Fly.txt\n",
      "Darius-13-100m-Fly.txt\n"
     ]
    }
   ],
   "source": [
    "import swimclub\n",
    "import hfpy_utils\n",
    "import os\n",
    "\n",
    "swim_files = os.listdir(swimclub.FOLDER)\n",
    "fn = \"Darius-13-100m-Fly.txt\"\n",
    "FN = \"Darius-13-100m-Fly.txt\"\n",
    "FOLDER = \"swimdata/\"\n",
    "\n",
    "*_, times, average, converts = swimclub.read_swim_data(fn)\n",
    "\n",
    "from_max = max(converts)\n",
    "svgs = \"\"\n",
    "times.reverse()\n",
    "converts.reverse()\n",
    "\n",
    "(swimmer, age, distance, stroke, *_) = swimclub.read_swim_data(fn)  # Extracting the name, age, distance and stroke for each swimmer \n",
    "\n",
    "title = f\"{swimmer} (Under {age}) {distance} {stroke}\"  # string variable for the title of the html code\n",
    "\n",
    "\n",
    "# string variable for the header tag of the html page\n",
    "\n",
    "html = f\"\"\"\n",
    "            <!DOCTYPE html>\n",
    "                <html>\n",
    "                    <head>\n",
    "                        <title>{title}</title>\n",
    "                    </head>\n",
    "                    <body>\n",
    "                        <h3>{title}</h3>\n",
    "        \"\"\"\n",
    "\n",
    "# string for the footer of the html content \n",
    "\n",
    "footer = f\"\"\"\"\n",
    "                        <p>Average Time: {average}</p>\n",
    "                    </body>\n",
    "                </html>\n",
    "            \"\"\"\n",
    "\n",
    "#Enumarator to number all the swim times for swimmer \n",
    "\n",
    "for n, t in enumerate(times):\n",
    "    bar_width = hfpy_utils.convert2range(converts[n], 0, from_max, 0, 350) # function to scale all the converted swim times to svg bar range\n",
    "    svgs = svgs + f\"\"\"\n",
    "                        <svg height= \"30\" width=\"400\">\n",
    "                            <rect height=\"30\" width=\"{bar_width}\" style=\"fill:rgb(0, 0, 255);\" />\n",
    "                        </svg>{t}<br />\n",
    "                    \"\"\"\n",
    "\n",
    "# HTML code components \n",
    "\n",
    "page = html + svgs + footer"
   ]
  },
  {
   "cell_type": "code",
   "execution_count": 2,
   "metadata": {},
   "outputs": [],
   "source": [
    "with open(FOLDER+FN) as df:\n",
    "    data = df.readlines()\n",
    "\n",
    "with open(\"test.txt\", \"w\") as tf:\n",
    "    print(\"This is a test\", file=tf)"
   ]
  },
  {
   "cell_type": "code",
   "execution_count": 3,
   "metadata": {},
   "outputs": [],
   "source": [
    "save_to = f\"charts/{fn.removesuffix('.txt')}.html\"\n",
    "\n",
    "with open(save_to, \"w\") as sf:\n",
    "    print(page, file=sf)"
   ]
  },
  {
   "cell_type": "code",
   "execution_count": null,
   "metadata": {},
   "outputs": [],
   "source": [
    "import swimclub\n",
    "\n",
    "f\"{(average / 100):.2f}\""
   ]
  },
  {
   "cell_type": "code",
   "execution_count": 1,
   "metadata": {},
   "outputs": [
    {
     "data": {
      "text/plain": [
       "True"
      ]
     },
     "execution_count": 1,
     "metadata": {},
     "output_type": "execute_result"
    }
   ],
   "source": [
    "import swimclub\n",
    "import webbrowser\n",
    "import os\n",
    "\n",
    "chart = swimclub.produce_bar_charts(\"Tasmin-15-100m-Back.txt\")\n",
    "webbrowser.open(\"file://\" + os.path.realpath(chart))\n"
   ]
  },
  {
   "cell_type": "code",
   "execution_count": 3,
   "metadata": {},
   "outputs": [
    {
     "name": "stdout",
     "output_type": "stream",
     "text": [
      "60\n"
     ]
    }
   ],
   "source": [
    "import os \n",
    "import swimclub\n",
    "\n",
    "swim_files = os.listdir(swimclub.FOLDER)\n",
    "swim_files.remove('.DS_Store')\n",
    "\n",
    "print(len(swim_files))"
   ]
  }
 ],
 "metadata": {
  "kernelspec": {
   "display_name": "Python 3",
   "language": "python",
   "name": "python3"
  },
  "language_info": {
   "codemirror_mode": {
    "name": "ipython",
    "version": 3
   },
   "file_extension": ".py",
   "mimetype": "text/x-python",
   "name": "python",
   "nbconvert_exporter": "python",
   "pygments_lexer": "ipython3",
   "version": "3.12.1"
  }
 },
 "nbformat": 4,
 "nbformat_minor": 2
}

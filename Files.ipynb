{
 "cells": [
  {
   "cell_type": "code",
   "execution_count": null,
   "metadata": {},
   "outputs": [],
   "source": [
    "import os\n",
    "import swimclub\n",
    "import hfpy_utils\n",
    "\n",
    "swim_files = os.listdir(swimclub.FOLDER)\n",
    "swim_files.remove('.DS_Store')\n",
    "\n",
    "for n, s in enumerate(swim_files, 1):\n",
    "    print(n, \"Processing :\", s)\n",
    "    print(swimclub.read_swim_data(s))"
   ]
  },
  {
   "cell_type": "code",
   "execution_count": 1,
   "metadata": {},
   "outputs": [
    {
     "name": "stdout",
     "output_type": "stream",
     "text": [
      "Darius-13-100m-Fly.txt\n",
      "Darius-13-100m-Fly.txt\n"
     ]
    }
   ],
   "source": [
    "import swimclub\n",
    "import hfpy_utils\n",
    "import os\n",
    "\n",
    "swim_files = os.listdir(swimclub.FOLDER)\n",
    "fn = \"Darius-13-100m-Fly.txt\"\n",
    "FN = \"Darius-13-100m-Fly.txt\"\n",
    "FOLDER = \"swimdata/\"\n",
    "\n",
    "*_, times, average, converts = swimclub.read_swim_data(fn)\n",
    "\n",
    "from_max = max(converts)\n",
    "svgs = \"\"\n",
    "times.reverse()\n",
    "converts.reverse()\n",
    "\n",
    "(swimmer, age, distance, stroke, *_) = swimclub.read_swim_data(fn)  # Extracting the name, age, distance and stroke for each swimmer \n",
    "\n",
    "title = f\"{swimmer} (Under {age}) {distance} {stroke}\"  # string variable for the title of the html code\n",
    "\n",
    "\n",
    "# string variable for the header tag of the html page\n",
    "\n",
    "html = f\"\"\"\n",
    "            <!DOCTYPE html>\n",
    "                <html>\n",
    "                    <head>\n",
    "                        <title>{title}</title>\n",
    "                    </head>\n",
    "                    <body>\n",
    "                        <h3>{title}</h3>\n",
    "        \"\"\"\n",
    "\n",
    "# string for the footer of the html content \n",
    "\n",
    "footer = f\"\"\"\"\n",
    "                        <p>Average Time: {average}</p>\n",
    "                    </body>\n",
    "                </html>\n",
    "            \"\"\"\n",
    "\n",
    "#Enumarator to number all the swim times for swimmer \n",
    "\n",
    "for n, t in enumerate(times):\n",
    "    bar_width = hfpy_utils.convert2range(converts[n], 0, from_max, 0, 350) # function to scale all the converted swim times to svg bar range\n",
    "    svgs = svgs + f\"\"\"\n",
    "                        <svg height= \"30\" width=\"400\">\n",
    "                            <rect height=\"30\" width=\"{bar_width}\" style=\"fill:rgb(0, 0, 255);\" />\n",
    "                        </svg>{t}<br />\n",
    "                    \"\"\"\n",
    "\n",
    "# HTML code components \n",
    "\n",
    "page = html + svgs + footer"
   ]
  },
  {
   "cell_type": "code",
   "execution_count": 2,
   "metadata": {},
   "outputs": [],
   "source": [
    "with open(FOLDER+FN) as df:\n",
    "    data = df.readlines()\n",
    "\n",
    "with open(\"test.txt\", \"w\") as tf:\n",
    "    print(\"This is a test\", file=tf)"
   ]
  },
  {
   "cell_type": "code",
   "execution_count": 3,
   "metadata": {},
   "outputs": [],
   "source": [
    "save_to = f\"charts/{fn.removesuffix('.txt')}.html\"\n",
    "\n",
    "with open(save_to, \"w\") as sf:\n",
    "    print(page, file=sf)"
   ]
  },
  {
   "cell_type": "code",
   "execution_count": null,
   "metadata": {},
   "outputs": [],
   "source": [
    "import swimclub\n",
    "\n",
    "f\"{(average / 100):.2f}\""
   ]
  },
  {
   "cell_type": "code",
   "execution_count": 1,
   "metadata": {},
   "outputs": [
    {
     "data": {
      "text/plain": [
       "True"
      ]
     },
     "execution_count": 1,
     "metadata": {},
     "output_type": "execute_result"
    }
   ],
   "source": [
    "import swimclub\n",
    "import webbrowser\n",
    "import os\n",
    "\n",
    "chart = swimclub.produce_bar_charts(\"Tasmin-15-100m-Back.txt\")\n",
    "webbrowser.open(\"file://\" + os.path.realpath(chart))\n"
   ]
  }
 ],
 "metadata": {
  "kernelspec": {
   "display_name": "Python 3",
   "language": "python",
   "name": "python3"
  },
  "language_info": {
   "codemirror_mode": {
    "name": "ipython",
    "version": 3
   },
   "file_extension": ".py",
   "mimetype": "text/x-python",
   "name": "python",
   "nbconvert_exporter": "python",
   "pygments_lexer": "ipython3",
   "version": "3.12.1"
  }
 },
 "nbformat": 4,
 "nbformat_minor": 2
}

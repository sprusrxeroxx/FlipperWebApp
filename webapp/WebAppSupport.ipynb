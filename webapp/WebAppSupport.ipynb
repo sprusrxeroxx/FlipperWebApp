{
 "cells": [
  {
   "cell_type": "code",
   "execution_count": 1,
   "metadata": {},
   "outputs": [
    {
     "name": "stdout",
     "output_type": "stream",
     "text": [
      "Collecting flask\n",
      "  Downloading flask-3.0.3-py3-none-any.whl.metadata (3.2 kB)\n",
      "Collecting Werkzeug>=3.0.0 (from flask)\n",
      "  Downloading werkzeug-3.0.2-py3-none-any.whl.metadata (4.1 kB)\n",
      "Requirement already satisfied: Jinja2>=3.1.2 in c:\\users\\user\\appdata\\local\\programs\\python\\python312\\lib\\site-packages (from flask) (3.1.3)\n",
      "Collecting itsdangerous>=2.1.2 (from flask)\n",
      "  Downloading itsdangerous-2.2.0-py3-none-any.whl.metadata (1.9 kB)\n",
      "Collecting click>=8.1.3 (from flask)\n",
      "  Downloading click-8.1.7-py3-none-any.whl.metadata (3.0 kB)\n",
      "Collecting blinker>=1.6.2 (from flask)\n",
      "  Downloading blinker-1.7.0-py3-none-any.whl.metadata (1.9 kB)\n",
      "Requirement already satisfied: colorama in c:\\users\\user\\appdata\\local\\programs\\python\\python312\\lib\\site-packages (from click>=8.1.3->flask) (0.4.6)\n",
      "Requirement already satisfied: MarkupSafe>=2.0 in c:\\users\\user\\appdata\\local\\programs\\python\\python312\\lib\\site-packages (from Jinja2>=3.1.2->flask) (2.1.5)\n",
      "Downloading flask-3.0.3-py3-none-any.whl (101 kB)\n",
      "   ---------------------------------------- 0.0/101.7 kB ? eta -:--:--\n",
      "   ---------------- ----------------------- 41.0/101.7 kB 1.9 MB/s eta 0:00:01\n",
      "   ---------------- ----------------------- 41.0/101.7 kB 1.9 MB/s eta 0:00:01\n",
      "   ----------------------------------- --- 92.2/101.7 kB 655.4 kB/s eta 0:00:01\n",
      "   ----------------------------------- --- 92.2/101.7 kB 655.4 kB/s eta 0:00:01\n",
      "   ----------------------------------- --- 92.2/101.7 kB 655.4 kB/s eta 0:00:01\n",
      "   ----------------------------------- --- 92.2/101.7 kB 655.4 kB/s eta 0:00:01\n",
      "   ----------------------------------- --- 92.2/101.7 kB 655.4 kB/s eta 0:00:01\n",
      "   ----------------------------------- --- 92.2/101.7 kB 655.4 kB/s eta 0:00:01\n",
      "   -------------------------------------- 101.7/101.7 kB 254.9 kB/s eta 0:00:00\n",
      "Downloading blinker-1.7.0-py3-none-any.whl (13 kB)\n",
      "Downloading click-8.1.7-py3-none-any.whl (97 kB)\n",
      "   ---------------------------------------- 0.0/97.9 kB ? eta -:--:--\n",
      "   ------------------------------------- -- 92.2/97.9 kB 5.1 MB/s eta 0:00:01\n",
      "   ------------------------------------- -- 92.2/97.9 kB 5.1 MB/s eta 0:00:01\n",
      "   ------------------------------------- -- 92.2/97.9 kB 5.1 MB/s eta 0:00:01\n",
      "   ------------------------------------- -- 92.2/97.9 kB 5.1 MB/s eta 0:00:01\n",
      "   ------------------------------------- -- 92.2/97.9 kB 5.1 MB/s eta 0:00:01\n",
      "   ------------------------------------- -- 92.2/97.9 kB 5.1 MB/s eta 0:00:01\n",
      "   ---------------------------------------- 97.9/97.9 kB 350.8 kB/s eta 0:00:00\n",
      "Downloading itsdangerous-2.2.0-py3-none-any.whl (16 kB)\n",
      "Downloading werkzeug-3.0.2-py3-none-any.whl (226 kB)\n",
      "   ---------------------------------------- 0.0/226.8 kB ? eta -:--:--\n",
      "   ---------------------------- ----------- 163.8/226.8 kB 5.0 MB/s eta 0:00:01\n",
      "   ---------------------------------------  225.3/226.8 kB 6.9 MB/s eta 0:00:01\n",
      "   ---------------------------------------  225.3/226.8 kB 6.9 MB/s eta 0:00:01\n",
      "   ---------------------------------------  225.3/226.8 kB 6.9 MB/s eta 0:00:01\n",
      "   ---------------------------------------- 226.8/226.8 kB 1.2 MB/s eta 0:00:00\n",
      "Installing collected packages: Werkzeug, itsdangerous, click, blinker, flask\n",
      "Successfully installed Werkzeug-3.0.2 blinker-1.7.0 click-8.1.7 flask-3.0.3 itsdangerous-2.2.0\n",
      "Note: you may need to restart the kernel to use updated packages.\n"
     ]
    }
   ],
   "source": [
    "pip install flask --upgrade"
   ]
  }
 ],
 "metadata": {
  "kernelspec": {
   "display_name": "Python 3",
   "language": "python",
   "name": "python3"
  },
  "language_info": {
   "codemirror_mode": {
    "name": "ipython",
    "version": 3
   },
   "file_extension": ".py",
   "mimetype": "text/x-python",
   "name": "python",
   "nbconvert_exporter": "python",
   "pygments_lexer": "ipython3",
   "version": "3.12.1"
  }
 },
 "nbformat": 4,
 "nbformat_minor": 2
}

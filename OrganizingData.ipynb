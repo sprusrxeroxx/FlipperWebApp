{
 "cells": [
  {
   "cell_type": "code",
   "execution_count": 3,
   "metadata": {},
   "outputs": [
    {
     "name": "stdout",
     "output_type": "stream",
     "text": [
      "60\n"
     ]
    }
   ],
   "source": [
    "import os \n",
    "import swimclub\n",
    "\n",
    "swim_files = os.listdir(swimclub.FOLDER)\n",
    "swim_files.remove('.DS_Store')\n",
    "\n",
    "print(len(swim_files))\n",
    "\n"
   ]
  },
  {
   "cell_type": "code",
   "execution_count": 23,
   "metadata": {},
   "outputs": [],
   "source": [
    "# find unique name entries in swimfiles\n",
    "swimmers = []\n",
    "for n in swim_files:\n",
    "    name, *_ = n.removesuffix('.txt').split('-')\n",
    "    if name not in swimmers:\n",
    "        swimmers.append(name)\n",
    "\n",
    "# DRY way of doing it \n",
    "[swimmers.append(swimclub.read_swim_data(file)[0]) for file in swim_files]\n",
    "names = list(set(swimmers))"
   ]
  }
 ],
 "metadata": {
  "kernelspec": {
   "display_name": "Python 3",
   "language": "python",
   "name": "python3"
  },
  "language_info": {
   "codemirror_mode": {
    "name": "ipython",
    "version": 3
   },
   "file_extension": ".py",
   "mimetype": "text/x-python",
   "name": "python",
   "nbconvert_exporter": "python",
   "pygments_lexer": "ipython3",
   "version": "3.12.1"
  }
 },
 "nbformat": 4,
 "nbformat_minor": 2
}
